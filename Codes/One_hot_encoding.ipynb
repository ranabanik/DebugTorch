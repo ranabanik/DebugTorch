{
 "cells": [
  {
   "cell_type": "code",
   "execution_count": 31,
   "metadata": {},
   "outputs": [
    {
     "name": "stdout",
     "output_type": "stream",
     "text": [
      "Current Time = 06/07/21\n"
     ]
    }
   ],
   "source": [
    "#rana.banik@vanderbilt.edu#\n",
    "from datetime import datetime\n",
    "now = datetime.now()\n",
    "current_time = now.strftime(\"%D\")\n",
    "print(\"Current Time =\", current_time)\n",
    "import numpy as np\n",
    "import os\n",
    "from glob import glob\n",
    "import nibabel as nib\n",
    "import matplotlib.pyplot as plt\n",
    "import torch"
   ]
  },
  {
   "cell_type": "code",
   "execution_count": 8,
   "metadata": {},
   "outputs": [],
   "source": [
    "def get_sub_list(train_img_dir):\n",
    "    \"\"\"\n",
    "    :param train_img_dir: t1 MR folder\n",
    "    :return: list of img names and list of images whole paths\n",
    "    \"\"\"\n",
    "    image_list = []\n",
    "    image_files = glob(os.path.join(train_img_dir, \"*.nii.gz\"))\n",
    "    image_files.sort()\n",
    "    for name in image_files:\n",
    "        image_list.append(os.path.basename(name)[:-14])\n",
    "    return image_list, image_files"
   ]
  },
  {
   "cell_type": "code",
   "execution_count": 4,
   "metadata": {},
   "outputs": [],
   "source": [
    "def expand_as_one_hot(input, C, ignore_index=None):\n",
    "    \"\"\"\n",
    "    Converts NxDxHxW label image to NxCxDxHxW, where each label gets converted to its corresponding one-hot vector\n",
    "    :param input: 4D input image (NxDxHxW)\n",
    "    :param C: number of channels/labels\n",
    "    :param ignore_index: ignore index to be kept during the expansion\n",
    "    :return: 5D output image (NxCxDxHxW)\n",
    "    \"\"\"\n",
    "    if input.dim() == 5:\n",
    "        return input\n",
    "    assert input.dim() == 4\n",
    "    # expand the input tensor to Nx1xDxHxW before scattering\n",
    "    input = input.unsqueeze(1)\n",
    "    # create result tensor shape (NxCxDxHxW)\n",
    "    shape = list(input.size())\n",
    "    shape[1] = C\n",
    "\n",
    "    if ignore_index is not None:\n",
    "        # create ignore_index mask for the result\n",
    "        mask = input.expand(shape) == ignore_index\n",
    "        # clone the lib tensor and zero out ignore_index in the input\n",
    "        input = input.clone()\n",
    "        input[input == ignore_index] = 0\n",
    "        # scatter to get the one-hot tensor\n",
    "        result = torch.zeros(shape).to(input.device).scatter_(1, input, 1)\n",
    "        # bring back the ignore_index in the result\n",
    "        result[mask] = ignore_index\n",
    "        return result\n",
    "    else:\n",
    "        # scatter to get the one-hot tensor\n",
    "        tz = torch.zeros(shape).to(input.device)\n",
    "        return tz.scatter_(1, input, 1)"
   ]
  },
  {
   "cell_type": "markdown",
   "metadata": {},
   "source": [
    "for one-hot encoding from torch, the segmentation mask values have to be $0$ to $C-1$ <br> The values datatype must be `torch.int64`"
   ]
  },
  {
   "cell_type": "code",
   "execution_count": 21,
   "metadata": {},
   "outputs": [
    {
     "name": "stdout",
     "output_type": "stream",
     "text": [
      "(48, 64, 64)\n",
      "torch.Size([1, 48, 64, 64])\n",
      "torch.Size([1, 9, 48, 64, 64]) tensor([0., 1.])\n",
      "(9, 48, 64, 64)\n"
     ]
    }
   ],
   "source": [
    "use_cuda = torch.cuda.is_available()\n",
    "device = torch.device(\"cuda:0\" if use_cuda else \"cpu\")\n",
    "project_dir = r'/media/banikr2/DATA/emModels/CT-MR_batch2/TrialMove/patchdir/LowResHeadSegTrial'\n",
    "imgDir = os.path.join(project_dir, 'img')\n",
    "# imgFiles = glob(os.path.join(imgDir, '*.gz'))\n",
    "segDir = os.path.join(project_dir, 'seg')\n",
    "train_img_subs, train_img_files = get_sub_list(imgDir)\n",
    "# print(train_img_files)\n",
    "train_seg_subs, train_seg_files = get_sub_list(segDir)\n",
    "# print(train_seg_files)\n",
    "\n",
    "train_dict = {}\n",
    "train_dict['img_subs'] = train_img_subs\n",
    "train_dict['img_files'] = train_img_files\n",
    "train_dict['seg_subs'] = train_seg_subs\n",
    "train_dict['seg_files'] = train_seg_files\n",
    "segnb = nib.load(train_dict['seg_files'][0])\n",
    "\n",
    "# +------------------------------------+\n",
    "# | implementation of one-hot encoding\n",
    "# +------------------------------------+\n",
    "segnp = segnb.get_fdata() #.astype('float32')\n",
    "labels = [0, 1, 2, 3, 4, 8, 10, 11, 56]\n",
    "Ltmp = np.copy(segnp)\n",
    "for use_idx, use_label in enumerate(labels):\n",
    "    # print('USE_LABEL: map {} to {}'.format(use_label, use_idx))\n",
    "    segnp[Ltmp == use_label] = use_idx\n",
    "\n",
    "print(segnp.shape)\n",
    "segt = segnp[None, ...]\n",
    "# segt = torch.tensor(segt)\n",
    "segt = torch.tensor(segt, dtype=torch.int64)\n",
    "print(segt.shape)   # torch.Size([1, 48, 64, 64])\n",
    "# segtt = segt.scatter(1, 1, segt)\n",
    "# print(segtt.shape)\n",
    "seg1h = expand_as_one_hot(segt, 9)\n",
    "print(seg1h.shape, seg1h.unique())\n",
    "\n",
    "seg1hnp = seg1h.numpy()\n",
    "seg1hnp = np.squeeze(seg1hnp)\n",
    "print(seg1hnp.shape)"
   ]
  },
  {
   "cell_type": "code",
   "execution_count": 22,
   "metadata": {},
   "outputs": [
    {
     "data": {
      "image/png": "[encoded data removed]",
      "text/plain": [
       "<Figure size 432x288 with 1 Axes>"
      ]
     },
     "metadata": {
      "needs_background": "light"
     },
     "output_type": "display_data"
    },
    {
     "data": {
      "image/png": "[encoded data removed]",
      "text/plain": [
       "<Figure size 432x288 with 1 Axes>"
      ]
     },
     "metadata": {
      "needs_background": "light"
     },
     "output_type": "display_data"
    },
    {
     "data": {
      "image/png": "[encoded data removed]",
      "text/plain": [
       "<Figure size 432x288 with 1 Axes>"
      ]
     },
     "metadata": {
      "needs_background": "light"
     },
     "output_type": "display_data"
    },
    {
     "data": {
      "image/png": "[encoded data removed]",
      "text/plain": [
       "<Figure size 432x288 with 1 Axes>"
      ]
     },
     "metadata": {
      "needs_background": "light"
     },
     "output_type": "display_data"
    },
    {
     "data": {
      "image/png": "[encoded data removed]",
      "text/plain": [
       "<Figure size 432x288 with 1 Axes>"
      ]
     },
     "metadata": {
      "needs_background": "light"
     },
     "output_type": "display_data"
    },
    {
     "data": {
      "image/png": "[encoded data removed]",
      "text/plain": [
       "<Figure size 432x288 with 1 Axes>"
      ]
     },
     "metadata": {
      "needs_background": "light"
     },
     "output_type": "display_data"
    },
    {
     "data": {
      "image/png": "[encoded data removed]",
      "text/plain": [
       "<Figure size 432x288 with 1 Axes>"
      ]
     },
     "metadata": {
      "needs_background": "light"
     },
     "output_type": "display_data"
    },
    {
     "data": {
      "image/png": "[encoded data removed]",
      "text/plain": [
       "<Figure size 432x288 with 1 Axes>"
      ]
     },
     "metadata": {
      "needs_background": "light"
     },
     "output_type": "display_data"
    },
    {
     "data": {
      "image/png": "[encoded data removed]",
      "text/plain": [
       "<Figure size 432x288 with 1 Axes>"
      ]
     },
     "metadata": {
      "needs_background": "light"
     },
     "output_type": "display_data"
    }
   ],
   "source": [
    "for i in range(len(labels)):\n",
    "    plt.imshow(seg1hnp[i, 24, ...])\n",
    "    plt.show()"
   ]
  },
  {
   "cell_type": "markdown",
   "metadata": {},
   "source": [
    "The segmentation mask didn't have any eyeball(label=11) in it. So the channel is blank. "
   ]
  },
  {
   "cell_type": "code",
   "execution_count": null,
   "metadata": {},
   "outputs": [],
   "source": []
  }
 ],
 "metadata": {
  "kernelspec": {
   "display_name": "Python 3",
   "language": "python",
   "name": "python3"
  },
  "language_info": {
   "codemirror_mode": {
    "name": "ipython",
    "version": 3
   },
   "file_extension": ".py",
   "mimetype": "text/x-python",
   "name": "python",
   "nbconvert_exporter": "python",
   "pygments_lexer": "ipython3",
   "version": "3.6.12"
  }
 },
 "nbformat": 4,
 "nbformat_minor": 4
}
